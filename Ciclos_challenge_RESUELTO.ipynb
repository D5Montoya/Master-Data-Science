{
  "nbformat": 4,
  "nbformat_minor": 0,
  "metadata": {
    "colab": {
      "provenance": [],
      "collapsed_sections": [],
      "include_colab_link": true
    },
    "kernelspec": {
      "name": "python3",
      "display_name": "Python 3"
    },
    "language_info": {
      "name": "python"
    }
  },
  "cells": [
    {
      "cell_type": "markdown",
      "metadata": {
        "id": "view-in-github",
        "colab_type": "text"
      },
      "source": [
        "<a href=\"https://colab.research.google.com/github/D5Montoya/Master-Data-Science/blob/main/Ciclos_challenge_RESUELTO.ipynb\" target=\"_parent\"><img src=\"https://colab.research.google.com/assets/colab-badge.svg\" alt=\"Open In Colab\"/></a>"
      ]
    },
    {
      "cell_type": "markdown",
      "metadata": {
        "id": "VEn_SLPyboN0"
      },
      "source": [
        "# Ciclos\n"
      ]
    },
    {
      "cell_type": "markdown",
      "metadata": {
        "id": "Ltf91jwLSB_d"
      },
      "source": [
        "Lee con atención las instrucciones en los siguientes ejercicios y ejecuta:"
      ]
    },
    {
      "cell_type": "markdown",
      "metadata": {
        "id": "8CXLWwF2TS5D"
      },
      "source": [
        "1. Escribe un ciclo que permita imprimir los números del 1 al 10"
      ]
    },
    {
      "cell_type": "code",
      "metadata": {
        "id": "wAOmpofLR1d5",
        "outputId": "8422c4a7-f082-405c-c5c0-d4b16dc4bb1c",
        "colab": {
          "base_uri": "https://localhost:8080/"
        }
      },
      "source": [
        "for x in range(11):\n",
        "  if x > 0:\n",
        "    print(x)\n",
        "  else:\n",
        "    pass"
      ],
      "execution_count": null,
      "outputs": [
        {
          "output_type": "stream",
          "name": "stdout",
          "text": [
            "1\n",
            "2\n",
            "3\n",
            "4\n",
            "5\n",
            "6\n",
            "7\n",
            "8\n",
            "9\n",
            "10\n"
          ]
        }
      ]
    },
    {
      "cell_type": "code",
      "source": [
        "for x in range(1,11):\n",
        "  print(x)"
      ],
      "metadata": {
        "id": "hg18CV1yVE35",
        "outputId": "670d4d47-c37d-48f9-85bf-cb17fa5a187f",
        "colab": {
          "base_uri": "https://localhost:8080/"
        }
      },
      "execution_count": null,
      "outputs": [
        {
          "output_type": "stream",
          "name": "stdout",
          "text": [
            "1\n",
            "2\n",
            "3\n",
            "4\n",
            "5\n",
            "6\n",
            "7\n",
            "8\n",
            "9\n",
            "10\n"
          ]
        }
      ]
    },
    {
      "cell_type": "markdown",
      "metadata": {
        "id": "JGlH_p9ll3yO"
      },
      "source": [
        "2. Escribe un ciclo que imprima los números pares entre el 30 y el 50 (incluyendo el 30 y excluyendo el 50)"
      ]
    },
    {
      "cell_type": "code",
      "metadata": {
        "id": "_hobkTpAUEB4",
        "outputId": "57bee55b-7824-484f-bc01-4853865bc2ac",
        "colab": {
          "base_uri": "https://localhost:8080/"
        }
      },
      "source": [
        "numbers=[30,31,32,33,34,35,36,37,38,39,40,41,42,43,44,45,46,47,48,49,50]\n",
        "for x in numbers:\n",
        "  if x % 2 == 0 and x < 50:\n",
        "    print(x)\n"
      ],
      "execution_count": null,
      "outputs": [
        {
          "output_type": "stream",
          "name": "stdout",
          "text": [
            "30\n",
            "32\n",
            "34\n",
            "36\n",
            "38\n",
            "40\n",
            "42\n",
            "44\n",
            "46\n",
            "48\n"
          ]
        }
      ]
    },
    {
      "cell_type": "code",
      "source": [
        "for x in range(30,50,2):\n",
        "  print(x)"
      ],
      "metadata": {
        "id": "1aftMFO1ThyO",
        "outputId": "bf2c992d-e43d-4218-937f-7aa667aa4086",
        "colab": {
          "base_uri": "https://localhost:8080/"
        }
      },
      "execution_count": null,
      "outputs": [
        {
          "output_type": "stream",
          "name": "stdout",
          "text": [
            "30\n",
            "32\n",
            "34\n",
            "36\n",
            "38\n",
            "40\n",
            "42\n",
            "44\n",
            "46\n",
            "48\n"
          ]
        }
      ]
    },
    {
      "cell_type": "markdown",
      "metadata": {
        "id": "cCqs1tjHNpv4"
      },
      "source": [
        "3. Escribe un ciclo que imprima los valores entre el 3 y el 8 en pasos de 2 en 2."
      ]
    },
    {
      "cell_type": "code",
      "metadata": {
        "colab": {
          "base_uri": "https://localhost:8080/"
        },
        "id": "70-kC-f9oqAe",
        "outputId": "dc07b555-7f00-4879-f2c0-22a0a31b796a"
      },
      "source": [
        "for x in range(9):\n",
        "  if x < 3:\n",
        "    pass\n",
        "  elif x == 3 or x == 5 or x == 7:\n",
        "    print (x)"
      ],
      "execution_count": null,
      "outputs": [
        {
          "output_type": "stream",
          "name": "stdout",
          "text": [
            "3\n",
            "5\n",
            "7\n"
          ]
        }
      ]
    },
    {
      "cell_type": "code",
      "source": [
        "for x in range(3,8,2):\n",
        "  print(x)"
      ],
      "metadata": {
        "id": "H1bam9lUVW9p",
        "outputId": "4b33a816-9097-4bb8-a209-cb96041c8dc8",
        "colab": {
          "base_uri": "https://localhost:8080/"
        }
      },
      "execution_count": null,
      "outputs": [
        {
          "output_type": "stream",
          "name": "stdout",
          "text": [
            "3\n",
            "5\n",
            "7\n"
          ]
        }
      ]
    },
    {
      "cell_type": "markdown",
      "metadata": {
        "id": "nTis6gKvoNkm"
      },
      "source": [
        "4. Escribe un ciclo que recorra la siguiente lista e imprima cada nombre de pokemon:"
      ]
    },
    {
      "cell_type": "code",
      "metadata": {
        "id": "C2B4nzcENgB7"
      },
      "source": [
        "pokemon = ['Bulbasaur', 'Ivysaur', 'Squirtle', 'Venusaur', 'Charmander', 'Squirtle', 'Charmeleon', 'Pidgey', 'Pikachu', 'Squirtle']"
      ],
      "execution_count": null,
      "outputs": []
    },
    {
      "cell_type": "code",
      "metadata": {
        "id": "l-hgO3AFkVzk",
        "outputId": "0724a48d-fd04-44a7-85e0-df3ae7a694d5",
        "colab": {
          "base_uri": "https://localhost:8080/"
        }
      },
      "source": [
        "for poke in pokemon:\n",
        "  print(poke)"
      ],
      "execution_count": null,
      "outputs": [
        {
          "output_type": "stream",
          "name": "stdout",
          "text": [
            "Bulbasaur\n",
            "Ivysaur\n",
            "Squirtle\n",
            "Venusaur\n",
            "Charmander\n",
            "Squirtle\n",
            "Charmeleon\n",
            "Pidgey\n",
            "Pikachu\n",
            "Squirtle\n"
          ]
        }
      ]
    },
    {
      "cell_type": "markdown",
      "metadata": {
        "id": "h7VTsi7Lh3C-"
      },
      "source": [
        "5. Escribe un ciclo que recorra la lista pokemon. En caso de encontrarnos con el nombre 'Squirtle' al iterar la lista, imprima un mensaje con el siguiente formato:\n",
        "\n",
        "index - pokemon - Vamo a calmarno\n",
        "\n",
        "Donde:\n",
        "- index es número de posición en la lista donde encontramos 'Squirtle'. Debe ser una variable.\n",
        "- pokemon es el nombre del pokemon que estamos buscando\n",
        "- \"Vamo a calmarno\" es la frase de nuestro pokemon. "
      ]
    },
    {
      "cell_type": "code",
      "metadata": {
        "id": "I3I7VbTdoin4",
        "outputId": "f4549955-eb65-4338-9c82-730ab427e3ff",
        "colab": {
          "base_uri": "https://localhost:8080/"
        }
      },
      "source": [
        "for poke in pokemon:\n",
        "  if poke == 'Squirtle':\n",
        "    index = pokemon.index('Squirtle')\n",
        "    print(index,'-',poke, '- Vamo a calmarno')"
      ],
      "execution_count": null,
      "outputs": [
        {
          "output_type": "stream",
          "name": "stdout",
          "text": [
            "2 - Squirtle - Vamo a calmarno\n",
            "2 - Squirtle - Vamo a calmarno\n",
            "2 - Squirtle - Vamo a calmarno\n"
          ]
        }
      ]
    },
    {
      "cell_type": "markdown",
      "metadata": {
        "id": "HOwNy5VOorNy"
      },
      "source": [
        "6. Del 0 al 20, muestra los valores en este rango de de 3 en 3, mediante un ciclo while (incluyendo al 20). Utiliza un condicional IF dentro del ciclo para detenerlo (utiliza break)."
      ]
    },
    {
      "cell_type": "code",
      "metadata": {
        "id": "mZx6iGmeoqEA",
        "outputId": "58af2bd1-8c1e-4aad-a202-352d3a0c4236",
        "colab": {
          "base_uri": "https://localhost:8080/"
        }
      },
      "source": [
        "i = 0\n",
        "while i <= 20:\n",
        "  print(i)\n",
        "  if (i == 21):\n",
        "    break\n",
        "  i += 3"
      ],
      "execution_count": null,
      "outputs": [
        {
          "output_type": "stream",
          "name": "stdout",
          "text": [
            "0\n",
            "3\n",
            "6\n",
            "9\n",
            "12\n",
            "15\n",
            "18\n"
          ]
        }
      ]
    },
    {
      "cell_type": "markdown",
      "metadata": {
        "id": "ato2HirpOAy9"
      },
      "source": [
        "7. Repite el ejercicio del punto 6 pero utilizando sólo la condicional del while."
      ]
    },
    {
      "cell_type": "code",
      "metadata": {
        "id": "r4NtOzm3op94",
        "outputId": "c44fc365-7b4c-4ee8-fe61-c190534c5057",
        "colab": {
          "base_uri": "https://localhost:8080/"
        }
      },
      "source": [
        "i = 0\n",
        "while i < 21:\n",
        "  print(i)\n",
        "  i += 3"
      ],
      "execution_count": null,
      "outputs": [
        {
          "output_type": "stream",
          "name": "stdout",
          "text": [
            "0\n",
            "3\n",
            "6\n",
            "9\n",
            "12\n",
            "15\n",
            "18\n"
          ]
        }
      ]
    },
    {
      "cell_type": "markdown",
      "metadata": {
        "id": "5W25SYZeORtE"
      },
      "source": [
        "8. Escribe un ciclo para imprimir los números impares entre el 0 y el 10. Utiliza una condicional junto con la palabra reservada \"continue\"."
      ]
    },
    {
      "cell_type": "code",
      "metadata": {
        "id": "mTpYdCzFop7s",
        "outputId": "d6e4db59-ba27-4132-b00f-d93fb37180bc",
        "colab": {
          "base_uri": "https://localhost:8080/"
        }
      },
      "source": [
        "for x in range(11):\n",
        "  if x % 2 == 0:\n",
        "    continue\n",
        "  print(x)"
      ],
      "execution_count": null,
      "outputs": [
        {
          "output_type": "stream",
          "name": "stdout",
          "text": [
            "1\n",
            "3\n",
            "5\n",
            "7\n",
            "9\n"
          ]
        }
      ]
    },
    {
      "cell_type": "markdown",
      "metadata": {
        "id": "_jKHKuBkbxhX"
      },
      "source": [
        "###Recursos extra para estudiar y ejercios\n"
      ]
    },
    {
      "cell_type": "markdown",
      "metadata": {
        "id": "86XEDrCbdBCr"
      },
      "source": [
        "- Uso de [range en Python](https://www.w3schools.com/python/ref_func_range.asp)\n",
        "- Articulo corto de [Ciclos](https://pythonparanovatos.com/blog/como-usar-bucles-en-python/)\n",
        "- Ciclo for según [W3Schools](https://www.w3schools.com/python/python_for_loops.asp)\n",
        "- Ciclo while según [W3Schools](https://www.w3schools.com/python/python_while_loops.asp)\n",
        "- Ejercicios practicos en portal de [W3Schools](https://www.w3schools.com/python/python_exercises.asp)"
      ]
    }
  ]
}