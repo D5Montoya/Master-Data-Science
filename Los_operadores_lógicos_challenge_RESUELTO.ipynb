{
  "nbformat": 4,
  "nbformat_minor": 0,
  "metadata": {
    "colab": {
      "provenance": [],
      "collapsed_sections": [],
      "include_colab_link": true
    },
    "kernelspec": {
      "name": "python3",
      "display_name": "Python 3"
    },
    "language_info": {
      "name": "python"
    }
  },
  "cells": [
    {
      "cell_type": "markdown",
      "metadata": {
        "id": "view-in-github",
        "colab_type": "text"
      },
      "source": [
        "<a href=\"https://colab.research.google.com/github/D5Montoya/Master-Data-Science/blob/comment/Los_operadores_l%C3%B3gicos_challenge_RESUELTO.ipynb\" target=\"_parent\"><img src=\"https://colab.research.google.com/assets/colab-badge.svg\" alt=\"Open In Colab\"/></a>"
      ]
    },
    {
      "cell_type": "markdown",
      "metadata": {
        "id": "VEn_SLPyboN0"
      },
      "source": [
        "#Los operadores lógicos \n",
        "\n"
      ]
    },
    {
      "cell_type": "markdown",
      "metadata": {
        "id": "P1vqdpRJQMv6"
      },
      "source": [
        "Recordemos los operadores de comparación\n",
        "\n",
        "![img1](https://facialix.com/images/cond.png)"
      ]
    },
    {
      "cell_type": "markdown",
      "metadata": {
        "id": "jXKTPrImShCj"
      },
      "source": [
        "y veamos algunos ejemplos de los operadores logicos en acción\n",
        "\n",
        "![img2](https://facialix.com/images/logicos.png)"
      ]
    },
    {
      "cell_type": "markdown",
      "metadata": {
        "id": "Ltf91jwLSB_d"
      },
      "source": [
        "**En este ejercicio debes mostrar el valor que se obtiene de las sentencias al ejecutarlas en codigo y explicarlas:**"
      ]
    },
    {
      "cell_type": "markdown",
      "metadata": {
        "id": "8CXLWwF2TS5D"
      },
      "source": [
        "1) **not true**"
      ]
    },
    {
      "cell_type": "code",
      "metadata": {
        "id": "dn0D2e0wB4mv",
        "outputId": "97985c52-ddfd-4efc-f8cf-b4cd260971eb",
        "colab": {
          "base_uri": "https://localhost:8080/"
        }
      },
      "source": [
        "not True\n",
        "\n"
      ],
      "execution_count": null,
      "outputs": [
        {
          "output_type": "execute_result",
          "data": {
            "text/plain": [
              "False"
            ]
          },
          "metadata": {},
          "execution_count": 2
        }
      ]
    },
    {
      "cell_type": "markdown",
      "metadata": {
        "id": "LIIjBScjETLc"
      },
      "source": [
        "El operador 'not' cambia el valor de las operaciones booleanas que preceda, así que al estar negando una afirmación 'True', da como resultado False."
      ]
    },
    {
      "cell_type": "markdown",
      "metadata": {
        "id": "JGlH_p9ll3yO"
      },
      "source": [
        "2) **not (1+2 != 3)**"
      ]
    },
    {
      "cell_type": "code",
      "metadata": {
        "id": "_hobkTpAUEB4",
        "outputId": "0d5a449a-5ec8-471d-a54c-ba001f874738",
        "colab": {
          "base_uri": "https://localhost:8080/"
        }
      },
      "source": [
        "not(1+2!=3)\n",
        "\n",
        "\n"
      ],
      "execution_count": null,
      "outputs": [
        {
          "output_type": "execute_result",
          "data": {
            "text/plain": [
              "True"
            ]
          },
          "metadata": {},
          "execution_count": 3
        }
      ]
    },
    {
      "cell_type": "markdown",
      "metadata": {
        "id": "0Gw_3yeSFKRf"
      },
      "source": [
        "Al hacer la operación dentro del paréntesis 1+2 se obtiene un resultado de 3, quedaría: not(3!=3). Sabemos que 3 sí es igual a 3 ((3=3) = True) por lo que en este caso quedaría como False el statement dentro del paréntesis. Pero como el 'not' cambia el valor que debería ser 'False' da como resultado 'True'."
      ]
    },
    {
      "cell_type": "markdown",
      "metadata": {
        "id": "nTis6gKvoNkm"
      },
      "source": [
        "3) **x = (len(\"jugar\") > 5) and (len(\"jugar\") < 10)**"
      ]
    },
    {
      "cell_type": "code",
      "metadata": {
        "id": "I3I7VbTdoin4"
      },
      "source": [
        "x = (len(\"jugar\") > 5) and (len(\"jugar\") < 10)"
      ],
      "execution_count": null,
      "outputs": []
    },
    {
      "cell_type": "markdown",
      "metadata": {
        "id": "Zml_nA0vFPqR"
      },
      "source": [
        "Según yo aquí debería de salir 'False' porque el operador 'and' condiciona a dar 'True' solo si ambos statements son 'True', con que haya un 'False' da 'False'."
      ]
    },
    {
      "cell_type": "markdown",
      "metadata": {
        "id": "HOwNy5VOorNy"
      },
      "source": [
        "4) **\"alto\"[2] == \"t\" and x**"
      ]
    },
    {
      "cell_type": "code",
      "metadata": {
        "id": "mZx6iGmeoqEA",
        "outputId": "d2f26d88-91f8-477d-8c29-4514c330a4b6",
        "colab": {
          "base_uri": "https://localhost:8080/"
        }
      },
      "source": [
        " \"alto\"[2] == \"t\" and x"
      ],
      "execution_count": null,
      "outputs": [
        {
          "output_type": "execute_result",
          "data": {
            "text/plain": [
              "False"
            ]
          },
          "metadata": {},
          "execution_count": 12
        }
      ]
    },
    {
      "cell_type": "code",
      "source": [
        "\"t\" and x"
      ],
      "metadata": {
        "id": "qHL8Cybyh8QA",
        "outputId": "d6028ea5-e4e7-4d68-e741-b80a05f21636",
        "colab": {
          "base_uri": "https://localhost:8080/"
        }
      },
      "execution_count": null,
      "outputs": [
        {
          "output_type": "execute_result",
          "data": {
            "text/plain": [
              "False"
            ]
          },
          "metadata": {},
          "execution_count": 21
        }
      ]
    },
    {
      "cell_type": "markdown",
      "metadata": {
        "id": "ze-L4sA0FZv1"
      },
      "source": [
        "La primera parte nos da como resultado la letra 't', sin embargo, la segunda parte es falsa por lo que toda la proposición da False."
      ]
    },
    {
      "cell_type": "markdown",
      "metadata": {
        "id": "cCqs1tjHNpv4"
      },
      "source": [
        "5) **842913%10 != 3 and len(\"café\") == 3**"
      ]
    },
    {
      "cell_type": "code",
      "metadata": {
        "id": "70-kC-f9oqAe",
        "outputId": "50ad8de5-8be2-47cb-d4e3-e55c06c7e963",
        "colab": {
          "base_uri": "https://localhost:8080/"
        }
      },
      "source": [
        "842913%10 != 3 and len(\"café\") == 3\n",
        "#         0     y    0"
      ],
      "execution_count": null,
      "outputs": [
        {
          "output_type": "execute_result",
          "data": {
            "text/plain": [
              "False"
            ]
          },
          "metadata": {},
          "execution_count": 14
        }
      ]
    },
    {
      "cell_type": "code",
      "source": [
        "len(\"café\") == 3"
      ],
      "metadata": {
        "id": "ddZ3bk0LhosQ",
        "outputId": "ddb75f69-835c-493c-c919-921176c7c455",
        "colab": {
          "base_uri": "https://localhost:8080/"
        }
      },
      "execution_count": null,
      "outputs": [
        {
          "output_type": "execute_result",
          "data": {
            "text/plain": [
              "False"
            ]
          },
          "metadata": {},
          "execution_count": 15
        }
      ]
    },
    {
      "cell_type": "markdown",
      "metadata": {
        "id": "TpDnFFjcGdkj"
      },
      "source": [
        "Al hacer la primera operación nos da como resultado 3 y la siguiente parte nos dice que este resultado es diferente a 3 así que esta parte es Falsa. Del otro lado tenemos que el str: 'café' NO tiene 3 elementos así que esta parte también es Falsa. Realmente basta con la primera parte y el AND para ver que esta proposición da False."
      ]
    },
    {
      "cell_type": "markdown",
      "metadata": {
        "id": "ato2HirpOAy9"
      },
      "source": [
        "6) **0!=0 or \"a\" < \"y\"**"
      ]
    },
    {
      "cell_type": "code",
      "metadata": {
        "id": "r4NtOzm3op94",
        "outputId": "f9bb6c17-847a-40bc-f328-6c2007337547",
        "colab": {
          "base_uri": "https://localhost:8080/"
        }
      },
      "source": [
        " 0!=0 or \"a\" < \"y\"\n"
      ],
      "execution_count": null,
      "outputs": [
        {
          "output_type": "execute_result",
          "data": {
            "text/plain": [
              "True"
            ]
          },
          "metadata": {},
          "execution_count": 28
        }
      ]
    },
    {
      "cell_type": "code",
      "source": [
        "0!=0"
      ],
      "metadata": {
        "id": "_4BJKz9uii5i",
        "outputId": "1b4ecced-8032-4383-845d-46feb851a3d6",
        "colab": {
          "base_uri": "https://localhost:8080/"
        }
      },
      "execution_count": null,
      "outputs": [
        {
          "output_type": "execute_result",
          "data": {
            "text/plain": [
              "False"
            ]
          },
          "metadata": {},
          "execution_count": 27
        }
      ]
    },
    {
      "cell_type": "code",
      "source": [
        "\"a\" < \"y\""
      ],
      "metadata": {
        "id": "TW1kYz3AiniX",
        "outputId": "59c5bd18-6209-4f0d-865a-c944d41b2c94",
        "colab": {
          "base_uri": "https://localhost:8080/"
        }
      },
      "execution_count": null,
      "outputs": [
        {
          "output_type": "execute_result",
          "data": {
            "text/plain": [
              "True"
            ]
          },
          "metadata": {},
          "execution_count": 31
        }
      ]
    },
    {
      "cell_type": "markdown",
      "metadata": {
        "id": "Roy4PanwGfxi"
      },
      "source": [
        "Aquí tenemos que la primera parte es False porque 0 es igual a 0 y nos dice lo contrario. Por otra parte, 'a' se encuentra antes en el abecedario que 'y' y de ahí el programa puede decir que es \"menor\", esta parte es verdadera y al ser una disyunción, basta con que una parte sea verdadera para que ambas lo sean, por eso es True."
      ]
    },
    {
      "cell_type": "markdown",
      "metadata": {
        "id": "5W25SYZeORtE"
      },
      "source": [
        "7) **True or int(\"50\") >= 50**"
      ]
    },
    {
      "cell_type": "code",
      "metadata": {
        "id": "mTpYdCzFop7s",
        "outputId": "06fc1ee5-2543-4161-fd38-320aecfcd71a",
        "colab": {
          "base_uri": "https://localhost:8080/"
        }
      },
      "source": [
        "True or int(\"50\") >= 50\n",
        "\n",
        "\n"
      ],
      "execution_count": null,
      "outputs": [
        {
          "output_type": "execute_result",
          "data": {
            "text/plain": [
              "True"
            ]
          },
          "metadata": {},
          "execution_count": 32
        }
      ]
    },
    {
      "cell_type": "markdown",
      "metadata": {
        "id": "hMZpEBHCGkqJ"
      },
      "source": [
        "Sin importar cuál sea el resultado de la segunda parte (int(\"50\") >= 50), al ser una disyunción y que la primera parte sea True, toda la proposición es True. Aunque la segunda parte solo hace que un str sea un int, por lo que ya es comparable con otro int y, por ende en el ejemplo, True."
      ]
    },
    {
      "cell_type": "markdown",
      "metadata": {
        "id": "Dp4beMsqOhOh"
      },
      "source": [
        "8) **edad = 20**\n",
        "\n",
        "**not(x) or edad%2==0**"
      ]
    },
    {
      "cell_type": "code",
      "metadata": {
        "id": "bTco9wG8op5G",
        "outputId": "ca83e117-59ad-4a50-8fb3-4970181026d2",
        "colab": {
          "base_uri": "https://localhost:8080/"
        }
      },
      "source": [
        "edad = 20\n",
        "\n",
        "not(x) or edad%2==0\n",
        "\n",
        "\n"
      ],
      "execution_count": null,
      "outputs": [
        {
          "output_type": "execute_result",
          "data": {
            "text/plain": [
              "True"
            ]
          },
          "metadata": {},
          "execution_count": 37
        }
      ]
    },
    {
      "cell_type": "markdown",
      "metadata": {
        "id": "AyH5LeZ4HgaZ"
      },
      "source": [
        "Al hacer la operación de edad%2==0, 20%2==0, podemos ver que es True y como se mencionó anteriormente, en una disyunción toda la proposición es True."
      ]
    },
    {
      "cell_type": "markdown",
      "metadata": {
        "id": "QXou2mt7Oy4r"
      },
      "source": [
        "9) **es_cliente = False**\n",
        "\n",
        "**not (es_cliente and not(edad < 18))**"
      ]
    },
    {
      "cell_type": "code",
      "metadata": {
        "id": "-p3G0qH3op2X",
        "outputId": "87faab74-c36c-4cdd-fbbb-d993157c43e0",
        "colab": {
          "base_uri": "https://localhost:8080/"
        }
      },
      "source": [
        "es_cliente = False\n",
        "\n",
        "not (es_cliente and not(edad < 18))\n",
        "\n",
        "\n"
      ],
      "execution_count": null,
      "outputs": [
        {
          "output_type": "execute_result",
          "data": {
            "text/plain": [
              "True"
            ]
          },
          "metadata": {},
          "execution_count": 38
        }
      ]
    },
    {
      "cell_type": "markdown",
      "metadata": {
        "id": "hBpjtW7iHhW8"
      },
      "source": [
        "Está definido que es_cliente = False y en la celda pasada definimos edad = 20. edad < 18 = False, not(edad < 18) = True. \n",
        "Por lo tanto, tenemos un False y un True, al ser una conjunción(and) nos queda un False y al agregarle el not del principio se convierte en True."
      ]
    },
    {
      "cell_type": "markdown",
      "metadata": {
        "id": "_jKHKuBkbxhX"
      },
      "source": [
        "###Recursos extra para estudiar y ejercios\n"
      ]
    },
    {
      "cell_type": "markdown",
      "metadata": {
        "id": "86XEDrCbdBCr"
      },
      "source": [
        "- Video corto de Coursera: [Tablas de verdad y álgebra booleana](https://www.coursera.org/lecture/programacion-python/tablas-de-verdad-y-algebra-booleana-JJs0E)\n",
        "- Articulo corto de [Tablas de la verdad](https://www.ecured.cu/Tablas_de_la_verdad)\n",
        "- Ejercicios practicos en portal de [Tablas de Verdad](https://www.edu.xunta.gal/espazoAbalar/sites/espazoAbalar/files/datos/1493724904/contido/tablas_de_verdad.html)\n",
        "- Guía de [Ejercicios de Lógica](https://www.fing.edu.uy/tecnoinf/mvd/cursos/mdl1/material/pra/buceo_noct/mdl1-pr-logica.pdf)"
      ]
    }
  ]
}